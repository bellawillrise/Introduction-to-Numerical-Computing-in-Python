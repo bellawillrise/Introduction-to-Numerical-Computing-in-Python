{
 "cells": [
  {
   "cell_type": "markdown",
   "metadata": {},
   "source": [
    "# Module 1: Python Programming\n",
    "## A. Welcome to Jupyter (a.k.a. Ipython Notebooks)\n",
    "Take a while to adjust your bearings. Study the icons above.\n",
    "\n",
    "There are two major types of cells:\n",
    "\n",
    "1) Markdown cells - simple text. One can do html tags like <b>BOLD</b> or latex like $\\beta$.\n",
    "\n",
    "2) Code cells - cells where we can run code.\n",
    "\n",
    "<b>Shortcuts</b>\n",
    "\n",
    "1) <b>CTRL-M</b> then <b>H</b> to see help\n",
    "\n",
    "2) <b>CTRL-M</b> then <b>S</b> to save notebook\n",
    "\n",
    "3) <b>CTRL-ENTER</b> to Run Code but stay in the same cell\n",
    "\n",
    "4) <b>SHIFT-ENTER</b> to Run Code and advance to the next cell\n",
    "\n",
    "5) Using <b>%pylab inline</b> preceeding everything else in the notebook imports already matplotlib and numpy. It also enables our graphics to be part of the notebook.\n",
    "\n",
    "6) You can use <b>TAB</b> to see available functions. You can use <b>SHIFT-TAB</b> repeatedly for the documentation."
   ]
  },
  {
   "cell_type": "code",
   "execution_count": 40,
   "metadata": {},
   "outputs": [
    {
     "name": "stdout",
     "output_type": "stream",
     "text": [
      "Populating the interactive namespace from numpy and matplotlib\n"
     ]
    },
    {
     "name": "stderr",
     "output_type": "stream",
     "text": [
      "C:\\Users\\abby\\AppData\\Local\\Continuum\\Anaconda3\\lib\\site-packages\\IPython\\core\\magics\\pylab.py:160: UserWarning: pylab import has clobbered these variables: ['pi', 'remainder', 'var']\n",
      "`%matplotlib` prevents importing * from pylab and numpy\n",
      "  \"\\n`%matplotlib` prevents importing * from pylab and numpy\"\n"
     ]
    }
   ],
   "source": [
    "%pylab inline"
   ]
  },
  {
   "cell_type": "markdown",
   "metadata": {},
   "source": [
    "## B. Variables and Data Types\n",
    "\n",
    "Python uses five standard data types:\n",
    "\n",
    "### Numbers"
   ]
  },
  {
   "cell_type": "code",
   "execution_count": 41,
   "metadata": {},
   "outputs": [],
   "source": [
    "varNum = 123\n",
    "pi = 3.14159"
   ]
  },
  {
   "cell_type": "markdown",
   "metadata": {},
   "source": [
    "varNum is an Integer, thus it does not handle numbers with decimal places while pi is a Float where values in the decimal place are handled."
   ]
  },
  {
   "cell_type": "markdown",
   "metadata": {},
   "source": [
    "### Strings"
   ]
  },
  {
   "cell_type": "code",
   "execution_count": 42,
   "metadata": {},
   "outputs": [
    {
     "name": "stdout",
     "output_type": "stream",
     "text": [
      "Hello World!\n",
      "The length of varString is 12\n"
     ]
    }
   ],
   "source": [
    "varString = \"Hello World!\"\n",
    "varText = 'This is a String'\n",
    "print(varString)\n",
    "print(\"The length of varString is\",len(varString))"
   ]
  },
  {
   "cell_type": "markdown",
   "metadata": {},
   "source": [
    "### Lists"
   ]
  },
  {
   "cell_type": "code",
   "execution_count": 43,
   "metadata": {},
   "outputs": [
    {
     "name": "stdout",
     "output_type": "stream",
     "text": [
      "['abc', 123]\n",
      "2\n"
     ]
    }
   ],
   "source": [
    "varList = [\"abc\", 123]\n",
    "print(varList)\n",
    "print(len(varList))"
   ]
  },
  {
   "cell_type": "code",
   "execution_count": 7,
   "metadata": {},
   "outputs": [
    {
     "name": "stdout",
     "output_type": "stream",
     "text": [
      "abc\n",
      "3\n"
     ]
    }
   ],
   "source": [
    "print(varList[0])\n",
    "print(len(varList[0]))"
   ]
  },
  {
   "cell_type": "markdown",
   "metadata": {},
   "source": [
    "You can think of Lists as similar to ArrayLists where the index starts at 0 and you can obtain the contents of a list by using brackets that contain the index of the element. You may also append items in the list and remove them as well."
   ]
  },
  {
   "cell_type": "markdown",
   "metadata": {},
   "source": [
    "### Tuples"
   ]
  },
  {
   "cell_type": "code",
   "execution_count": 8,
   "metadata": {},
   "outputs": [
    {
     "name": "stdout",
     "output_type": "stream",
     "text": [
      "('abc', 123, 'HELLO')\n",
      "3\n",
      "abc\n"
     ]
    }
   ],
   "source": [
    "varTuple = ('abc', 123, \"HELLO\")\n",
    "print(varTuple)\n",
    "print(len(varTuple))\n",
    "print(varTuple[0])"
   ]
  },
  {
   "cell_type": "markdown",
   "metadata": {},
   "source": [
    "It may seem like there are no differences between Tuples and Lists other than Tuples use parenthesis while lists use brackets, but actually there are minor differences. For one thing, Tuples are fixed structures thus do not have the luxury of Lists to append or remove elements. Generally Lists have a lot of other functions readily available as opposed to using Tuples.\n",
    "\n",
    "<b>HINT:</b> You can try to type <b><i>varList.</i></b> in one line as well as <b><i>varTuple.</i></b> and press <b>TAB</b> after the period (.) in order to view possible functions you can call from that variable. You may also try to press <b>CTRL + TAB</b> when the text cursor."
   ]
  },
  {
   "cell_type": "code",
   "execution_count": 44,
   "metadata": {},
   "outputs": [
    {
     "name": "stdout",
     "output_type": "stream",
     "text": [
      "['abc', 123, 'HELLO']\n",
      "3\n"
     ]
    }
   ],
   "source": [
    "varList.append(\"HELLO\")\n",
    "print(varList)\n",
    "print(len(varList))"
   ]
  },
  {
   "cell_type": "markdown",
   "metadata": {},
   "source": [
    "However Tuples actually use less space in the memory as opposed to Lists, resulting in faster processing. One thing to take note of is that one would usually use Tuples when the size of the contents are static as opposed to Lists where one can use it to continuously modify the size and elements."
   ]
  },
  {
   "cell_type": "code",
   "execution_count": 10,
   "metadata": {},
   "outputs": [
    {
     "name": "stdout",
     "output_type": "stream",
     "text": [
      "['abc', 123, 'HELLO']\n",
      "88\n",
      "('abc', 123, 'HELLO')\n",
      "48\n"
     ]
    }
   ],
   "source": [
    "print(varList)\n",
    "print(varList.__sizeof__())\n",
    "print(varTuple)\n",
    "print(varTuple.__sizeof__())"
   ]
  },
  {
   "cell_type": "markdown",
   "metadata": {},
   "source": [
    "### Dictionaries"
   ]
  },
  {
   "cell_type": "code",
   "execution_count": 46,
   "metadata": {},
   "outputs": [
    {
     "data": {
      "text/plain": [
       "{'first': 1, '2': '2nd', 3: 3}"
      ]
     },
     "execution_count": 46,
     "metadata": {},
     "output_type": "execute_result"
    }
   ],
   "source": [
    "var = 3\n",
    "varDict = {'first':1, '2':'2nd', 3:var}\n",
    "varDict"
   ]
  },
  {
   "cell_type": "markdown",
   "metadata": {},
   "source": [
    "You may also declare contents of dictionaries individually\n"
   ]
  },
  {
   "cell_type": "code",
   "execution_count": 47,
   "metadata": {},
   "outputs": [
    {
     "name": "stdout",
     "output_type": "stream",
     "text": [
      "3\n",
      "{'first': 1, '2': '2nd', 3: 3}\n"
     ]
    }
   ],
   "source": [
    "varDict = {}\n",
    "varDict['first'] = 1\n",
    "varDict['2'] = '2nd'\n",
    "varDict[3] = var\n",
    "print(varDict[3])\n",
    "print(varDict)"
   ]
  },
  {
   "cell_type": "markdown",
   "metadata": {},
   "source": [
    "If you have experience in using JavaScript Object Notation or JSON, Python's implementation of Dictionaries are quite similar to that. You may reference an element by inserting the label of the keypair.\n"
   ]
  },
  {
   "cell_type": "markdown",
   "metadata": {},
   "source": [
    "## Challenge! Write the following to code\n",
    "\n",
    "$$ g(z) = \\frac{1}{1+e^{-z}}  $$\n",
    "\n",
    "1) z = 8, and e = 2.718 should be equal to 0.0003\n",
    "\n",
    "2) z = 2, and e = 2.718 should be equal to 0.1192246961081721"
   ]
  },
  {
   "cell_type": "code",
   "execution_count": 14,
   "metadata": {},
   "outputs": [
    {
     "data": {
      "text/plain": [
       "0.8807753038918279"
      ]
     },
     "execution_count": 14,
     "metadata": {},
     "output_type": "execute_result"
    }
   ],
   "source": [
    "res = 1 / (1 + 2.718**-2)\n",
    "res"
   ]
  },
  {
   "cell_type": "markdown",
   "metadata": {},
   "source": [
    "## C. Control Statements and Data Structures\n",
    "## Conditional Statements\n",
    "In Python, curly brackets are not used to designate that multiple commands are inside a conditional statement, instead uniform spacing is used. Please take note however that the composition of the uniform spacing must be the same, such that if 4 spaces are being used, even though 4 spaces may have a visually similar result as a tab, interchanging them would produce an error statement\n",
    "### Boolean Condition"
   ]
  },
  {
   "cell_type": "code",
   "execution_count": 49,
   "metadata": {},
   "outputs": [
    {
     "name": "stdout",
     "output_type": "stream",
     "text": [
      "var x is True\n"
     ]
    }
   ],
   "source": [
    "x = True\n",
    "if x:\n",
    "    print(\"var x is True\")\n",
    "else:\n",
    "    print(\"var x is False\")"
   ]
  },
  {
   "cell_type": "markdown",
   "metadata": {},
   "source": [
    "### String Condition"
   ]
  },
  {
   "cell_type": "code",
   "execution_count": 50,
   "metadata": {},
   "outputs": [
    {
     "name": "stdout",
     "output_type": "stream",
     "text": [
      "var x is Hello World!\n"
     ]
    }
   ],
   "source": [
    "x = \"Hello World!\"\n",
    "\n",
    "if x == 'Hello World!':\n",
    "    print(\"var x is Hello World!\")\n",
    "else:\n",
    "    print(\"var x is not Hello World!\")"
   ]
  },
  {
   "cell_type": "markdown",
   "metadata": {},
   "source": [
    "### Numerical Condition"
   ]
  },
  {
   "cell_type": "code",
   "execution_count": 17,
   "metadata": {},
   "outputs": [
    {
     "name": "stdout",
     "output_type": "stream",
     "text": [
      "var x in an Integer\n"
     ]
    }
   ],
   "source": [
    "x = 10\n",
    "\n",
    "if x == '10':\n",
    "    print(\"var x is a String\")\n",
    "elif x == 10:\n",
    "    print(\"var x in an Integer\")\n",
    "else:\n",
    "    print(\"var x is none of the above\")"
   ]
  },
  {
   "cell_type": "markdown",
   "metadata": {},
   "source": [
    "### Multiple Conditions"
   ]
  },
  {
   "cell_type": "code",
   "execution_count": 51,
   "metadata": {},
   "outputs": [
    {
     "name": "stdout",
     "output_type": "stream",
     "text": [
      "var x is really 10!\n"
     ]
    }
   ],
   "source": [
    "x = 10\n",
    "\n",
    "if x > 5 and x < 15 and x == 10:\n",
    "    print(\"var x is really 10!\")\n",
    "else:\n",
    "    print(\"var x is not really 10\")"
   ]
  },
  {
   "cell_type": "markdown",
   "metadata": {},
   "source": [
    "## Loops\n",
    "Similar with that of Conditional Statements, commands within a loop are designated by having a uniform spacing.\n",
    "### For Loops"
   ]
  },
  {
   "cell_type": "code",
   "execution_count": 19,
   "metadata": {},
   "outputs": [
    {
     "name": "stdout",
     "output_type": "stream",
     "text": [
      "0\n",
      "2\n",
      "4\n"
     ]
    }
   ],
   "source": [
    "for var in range(0,5,2):\n",
    "    print(var)"
   ]
  },
  {
   "cell_type": "markdown",
   "metadata": {},
   "source": [
    "NOTE: The command range(0,5,2) is equivalent to all numbers from 0 incremented by 2 until it reaches the number < 5\n",
    "\n",
    "NOTE: range([start], stop, [step])"
   ]
  },
  {
   "cell_type": "code",
   "execution_count": 20,
   "metadata": {},
   "outputs": [
    {
     "data": {
      "text/plain": [
       "[1, 6, 11, 16, 21, 26, 31, 36, 41, 46, 51, 56, 61, 66, 71, 76, 81, 86, 91, 96]"
      ]
     },
     "execution_count": 20,
     "metadata": {},
     "output_type": "execute_result"
    }
   ],
   "source": [
    "[v for v in range(1, 100, 5)]"
   ]
  },
  {
   "cell_type": "markdown",
   "metadata": {},
   "source": [
    "### While Loops"
   ]
  },
  {
   "cell_type": "code",
   "execution_count": 25,
   "metadata": {},
   "outputs": [
    {
     "name": "stdout",
     "output_type": "stream",
     "text": [
      "0\n",
      "2\n",
      "4\n"
     ]
    }
   ],
   "source": [
    "var = 0\n",
    "while var < 5:\n",
    "    print(var)\n",
    "    var += 2"
   ]
  },
  {
   "cell_type": "markdown",
   "metadata": {},
   "source": [
    "### Nested Loops"
   ]
  },
  {
   "cell_type": "code",
   "execution_count": 26,
   "metadata": {},
   "outputs": [
    {
     "name": "stdout",
     "output_type": "stream",
     "text": [
      "\n",
      "0\n",
      "01\n",
      "012\n",
      "0123\n"
     ]
    }
   ],
   "source": [
    "x = 0\n",
    "while x < 5:\n",
    "    for y in range(0, x):\n",
    "        print(y, end='')\n",
    "    x+=1\n",
    "    print()"
   ]
  },
  {
   "cell_type": "markdown",
   "metadata": {},
   "source": [
    "## Slicing"
   ]
  },
  {
   "cell_type": "code",
   "execution_count": 30,
   "metadata": {},
   "outputs": [
    {
     "data": {
      "text/plain": [
       "[1, 2, 3, 4, 5]"
      ]
     },
     "execution_count": 30,
     "metadata": {},
     "output_type": "execute_result"
    }
   ],
   "source": [
    "varList = [1, 2, 3, 4, 5, 6, 7, 8, 9, 10]\n",
    "varList[:5]"
   ]
  },
  {
   "cell_type": "code",
   "execution_count": 31,
   "metadata": {},
   "outputs": [
    {
     "data": {
      "text/plain": [
       "[6, 7, 8, 9, 10]"
      ]
     },
     "execution_count": 31,
     "metadata": {},
     "output_type": "execute_result"
    }
   ],
   "source": [
    "varList[5:]"
   ]
  },
  {
   "cell_type": "code",
   "execution_count": 32,
   "metadata": {},
   "outputs": [
    {
     "data": {
      "text/plain": [
       "[1, 2, 3, 4, 5, 6, 7, 8]"
      ]
     },
     "execution_count": 32,
     "metadata": {},
     "output_type": "execute_result"
    }
   ],
   "source": [
    "varList[:-2] #10 is indexed -1"
   ]
  },
  {
   "cell_type": "code",
   "execution_count": 33,
   "metadata": {},
   "outputs": [
    {
     "data": {
      "text/plain": [
       "[9, 10]"
      ]
     },
     "execution_count": 33,
     "metadata": {},
     "output_type": "execute_result"
    }
   ],
   "source": [
    "varList[-2:]"
   ]
  },
  {
   "cell_type": "code",
   "execution_count": 34,
   "metadata": {},
   "outputs": [
    {
     "name": "stdout",
     "output_type": "stream",
     "text": [
      "[3, 4, 5, 6, 7, 8]\n"
     ]
    }
   ],
   "source": [
    "print(varList[2:-2])"
   ]
  },
  {
   "cell_type": "code",
   "execution_count": 35,
   "metadata": {},
   "outputs": [
    {
     "data": {
      "text/plain": [
       "[3, 5, 7]"
      ]
     },
     "execution_count": 35,
     "metadata": {},
     "output_type": "execute_result"
    }
   ],
   "source": [
    "varList[2:8:2]"
   ]
  },
  {
   "cell_type": "markdown",
   "metadata": {},
   "source": [
    "NOTE list([start]: end : [ step]) "
   ]
  },
  {
   "cell_type": "markdown",
   "metadata": {},
   "source": [
    "## D. Functions\n",
    "\n",
    "Functions use the following notation:\n",
    "\n",
    "def <i>function_name</i>:<br>\n",
    "<pre><i> input commands here </i></pre>\n",
    "\n",
    "Here is a sample function. np.random.randint(a, [b]) outputs uniformly random values from $[a,b) $"
   ]
  },
  {
   "cell_type": "code",
   "execution_count": 37,
   "metadata": {},
   "outputs": [],
   "source": [
    "def remainder(n, m):\n",
    "    while True:\n",
    "        if n - m < 0:\n",
    "            return n\n",
    "        else:\n",
    "            n = n - m"
   ]
  },
  {
   "cell_type": "code",
   "execution_count": 39,
   "metadata": {},
   "outputs": [
    {
     "data": {
      "text/plain": [
       "0"
      ]
     },
     "execution_count": 39,
     "metadata": {},
     "output_type": "execute_result"
    }
   ],
   "source": [
    "remainder(20, 4)"
   ]
  }
 ],
 "metadata": {
  "kernelspec": {
   "display_name": "Python 3",
   "language": "python",
   "name": "python3"
  },
  "language_info": {
   "codemirror_mode": {
    "name": "ipython",
    "version": 3
   },
   "file_extension": ".py",
   "mimetype": "text/x-python",
   "name": "python",
   "nbconvert_exporter": "python",
   "pygments_lexer": "ipython3",
   "version": "3.6.12"
  }
 },
 "nbformat": 4,
 "nbformat_minor": 4
}
